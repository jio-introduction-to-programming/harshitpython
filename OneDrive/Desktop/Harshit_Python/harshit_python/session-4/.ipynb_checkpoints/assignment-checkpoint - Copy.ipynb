{
 "cells": [
  {
   "cell_type": "code",
   "execution_count": 12,
   "id": "4ba33da0",
   "metadata": {},
   "outputs": [
    {
     "name": "stdout",
     "output_type": "stream",
     "text": [
      "Enter numbers: 5 8 6\n",
      "19\n"
     ]
    }
   ],
   "source": [
    "# function which takes a list as input and return its sum\n",
    "def func(arr):\n",
    "    return sum(arr)\n",
    "print(func(list(map(int,input(\"Enter numbers: \").split()))))"
   ]
  },
  {
   "cell_type": "code",
   "execution_count": 13,
   "id": "85971a65",
   "metadata": {},
   "outputs": [
    {
     "name": "stdout",
     "output_type": "stream",
     "text": [
      "Enter numbers: 8 5 4\n",
      "8\n"
     ]
    }
   ],
   "source": [
    "# function which takes a list as an input and return the max\n",
    "element in the list\n",
    "def func(arr):\n",
    "    return max(arr)\n",
    "print(func(list(map(int,input(\"Enter numbers: \").split()))))"
   ]
  },
  {
   "cell_type": "code",
   "execution_count": 14,
   "id": "750df7fd",
   "metadata": {},
   "outputs": [
    {
     "name": "stdout",
     "output_type": "stream",
     "text": [
      "Enter numbers: 5 8 6 7\n",
      "[7, 6, 8, 5]\n"
     ]
    }
   ],
   "source": [
    "# function which takes a list as input and returns the reverse of the list\n",
    "def func(arr):\n",
    "    return arr[::-1]\n",
    "print(func(list(map(int,input(\"Enter numbers: \").split()))))"
   ]
  },
  {
   "cell_type": "code",
   "execution_count": 35,
   "id": "b741ce18",
   "metadata": {},
   "outputs": [
    {
     "name": "stdout",
     "output_type": "stream",
     "text": [
      "Enter numbers:  5 6 8 45 6 8 42 2 5 48 6 75 6 \n",
      "Array sorted in ascending order:  [2, 5, 5, 6, 6, 6, 6, 8, 8, 42, 45, 48, 75]\n"
     ]
    }
   ],
   "source": [
    "# function which takes a list as input and returns the list in sorted format\n",
    "def func(arr):\n",
    "    for i in range(len(arr)-1):\n",
    "        flag = True\n",
    "        for j in range(i+1,len(arr)):\n",
    "            if arr[i]>arr[j]:\n",
    "                    flag = False\n",
    "                    arr[i] = arr[j] + arr[i]\n",
    "                    arr[j] = arr[i] - arr[j]\n",
    "                    arr[i] = arr[i] - arr[j]\n",
    "        if flag == True:\n",
    "            break\n",
    "    return arr\n",
    "print(\"Array sorted in ascending order: \",func(list(map(int,input(\"Enter numbers: \").split()))))"
   ]
  },
  {
   "cell_type": "code",
   "execution_count": 23,
   "id": "61c5facf",
   "metadata": {},
   "outputs": [
    {
     "name": "stdout",
     "output_type": "stream",
     "text": [
      "Enter numbers: 4 7 5 4  5 8 7 45 8 5 112 2 5 4 56 62 2 2  58 9 99  2 26 \n",
      "Mean =  268.5\n",
      "Mode =  26\n"
     ]
    }
   ],
   "source": [
    "# function which takes a list as an input and returns the following statistics\n",
    "# 1. Mean / Average\n",
    "# 2. Mode\n",
    "def mean_1(arr):\n",
    "    return round(sum(arr)/2,2)\n",
    "def mode_1(arr):\n",
    "    count = 0\n",
    "    mode = 0\n",
    "    for i in arr:\n",
    "        if count < arr.count(i):\n",
    "            mode = i\n",
    "    return mode\n",
    "arr = list(map(int,input(\"Enter numbers: \").split()))\n",
    "print(\"Mean = \", mean_1(arr))\n",
    "print(\"Mode = \", mode_1(arr))"
   ]
  },
  {
   "cell_type": "code",
   "execution_count": null,
   "id": "e9831753",
   "metadata": {},
   "outputs": [
    {
     "name": "stdout",
     "output_type": "stream",
     "text": [
      "Enter numbers : 2 5 56 55  6 44 55 4 5 4 55 \n",
      "Enter k size: 3\n",
      "Enter start index: 2\n",
      "Enter end index: 5\n",
      "161\n",
      "Enter start index: 0\n",
      "Enter end index: 1\n",
      "7\n",
      "Enter start index: -4\n",
      "Enter end index: -2\n",
      "13\n"
     ]
    }
   ],
   "source": [
    "# start and end as index\n",
    "arr = list(map(int, input(\"Enter numbers : \").split()))\n",
    "k = int(input(\"Enter k size: \"))\n",
    "while k > -1:\n",
    "    start = int(input(\"Enter start index: \"))\n",
    "    end = int(input(\"Enter end index: \"))\n",
    "    sum_start_end = sum(arr[start:end+1])\n",
    "    print(sum_start_end)\n",
    "    k -= 1"
   ]
  },
  {
   "cell_type": "code",
   "execution_count": null,
   "id": "b4c4a706",
   "metadata": {},
   "outputs": [],
   "source": []
  }
 ],
 "metadata": {
  "kernelspec": {
   "display_name": "Python 3 (ipykernel)",
   "language": "python",
   "name": "python3"
  },
  "language_info": {
   "codemirror_mode": {
    "name": "ipython",
    "version": 3
   },
   "file_extension": ".py",
   "mimetype": "text/x-python",
   "name": "python",
   "nbconvert_exporter": "python",
   "pygments_lexer": "ipython3",
   "version": "3.11.3"
  }
 },
 "nbformat": 4,
 "nbformat_minor": 5
}
